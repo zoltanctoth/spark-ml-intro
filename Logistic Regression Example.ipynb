{
 "cells": [
  {
   "cell_type": "markdown",
   "metadata": {},
   "source": [
    "Logistic Regression Example with MLlib and Spark ML\n",
    "====\n",
    "\n",
    "Start up Spark\n",
    "-------------"
   ]
  },
  {
   "cell_type": "code",
   "execution_count": 1,
   "metadata": {
    "collapsed": false
   },
   "outputs": [
    {
     "name": "stdout",
     "output_type": "stream",
     "text": [
      "Welcome to\n",
      "      ____              __\n",
      "     / __/__  ___ _____/ /__\n",
      "    _\\ \\/ _ \\/ _ `/ __/  '_/\n",
      "   /__ / .__/\\_,_/_/ /_/\\_\\   version 1.5.1\n",
      "      /_/\n",
      "\n",
      "Using Python version 2.7.10 (default, Aug 22 2015 20:33:39)\n",
      "SparkContext available as sc, HiveContext available as sqlContext.\n"
     ]
    }
   ],
   "source": [
    "import os\n",
    "import sys\n",
    "\n",
    "spark_home = '/opt/spark'\n",
    "os.environ['SPARK_HOME'] = spark_home\n",
    "\n",
    "sys.path.insert(0, os.path.join(spark_home, 'python'))\n",
    "sys.path.insert(0, os.path.join(spark_home, 'python/lib/py4j-0.8.1-src.zip'))\n",
    "\n",
    "execfile(os.path.join(spark_home, 'python/pyspark/shell.py'))"
   ]
  },
  {
   "cell_type": "markdown",
   "metadata": {},
   "source": [
    "Spark MLlib\n",
    "----------\n"
   ]
  },
  {
   "cell_type": "code",
   "execution_count": 2,
   "metadata": {
    "collapsed": false
   },
   "outputs": [
    {
     "data": {
      "text/plain": [
       "MapPartitionsRDD[1] at textFile at NativeMethodAccessorImpl.java:-2"
      ]
     },
     "execution_count": 2,
     "metadata": {},
     "output_type": "execute_result"
    }
   ],
   "source": [
    "rdd = sc.textFile(\"data/logreg.txt\")\n",
    "rdd"
   ]
  },
  {
   "cell_type": "code",
   "execution_count": 3,
   "metadata": {
    "collapsed": false
   },
   "outputs": [
    {
     "data": {
      "text/plain": [
       "[LabeledPoint(0.0, [0.154566227633,0.724472112723]),\n",
       " LabeledPoint(0.0, [0.25824072343,0.941291307266]),\n",
       " LabeledPoint(1.0, [0.624556148923,0.281255306961]),\n",
       " LabeledPoint(1.0, [0.34578104666,0.173468018101]),\n",
       " LabeledPoint(0.0, [0.188014594039,0.559243023806]),\n",
       " LabeledPoint(1.0, [0.818503161528,0.0252041247005]),\n",
       " LabeledPoint(0.0, [0.207063785789,0.956741738684]),\n",
       " LabeledPoint(0.0, [0.307921534078,0.407742746251]),\n",
       " LabeledPoint(1.0, [0.606240981259,0.125157948911]),\n",
       " LabeledPoint(1.0, [0.920950042253,0.185174962595])]"
      ]
     },
     "execution_count": 3,
     "metadata": {},
     "output_type": "execute_result"
    }
   ],
   "source": [
    "from pyspark.mllib.linalg import DenseVector\n",
    "from pyspark.mllib.regression import LabeledPoint\n",
    "\n",
    "def parsePoint(line):\n",
    "    values = [float(s) for s in line.split(' ')]\n",
    "    return LabeledPoint(values[0], DenseVector(values[1:]))\n",
    "\n",
    "points = rdd.map(parsePoint)\n",
    "points.collect()[0:10]"
   ]
  },
  {
   "cell_type": "code",
   "execution_count": 4,
   "metadata": {
    "collapsed": false
   },
   "outputs": [],
   "source": [
    "from pyspark.mllib.classification import LogisticRegressionWithSGD\n",
    "\n",
    "model = LogisticRegressionWithSGD.train(points, 100)"
   ]
  },
  {
   "cell_type": "markdown",
   "metadata": {},
   "source": [
    "Let's predict:"
   ]
  },
  {
   "cell_type": "code",
   "execution_count": 5,
   "metadata": {
    "collapsed": false
   },
   "outputs": [
    {
     "data": {
      "text/plain": [
       "1"
      ]
     },
     "execution_count": 5,
     "metadata": {},
     "output_type": "execute_result"
    }
   ],
   "source": [
    "model.predict([0.6,0.6])"
   ]
  },
  {
   "cell_type": "code",
   "execution_count": 6,
   "metadata": {
    "collapsed": false
   },
   "outputs": [
    {
     "data": {
      "text/plain": [
       "0"
      ]
     },
     "execution_count": 6,
     "metadata": {},
     "output_type": "execute_result"
    }
   ],
   "source": [
    "model.setThreshold(0.8)\n",
    "model.predict([0.6,0.6])"
   ]
  },
  {
   "cell_type": "code",
   "execution_count": 7,
   "metadata": {
    "collapsed": false
   },
   "outputs": [
    {
     "data": {
      "text/plain": [
       "1"
      ]
     },
     "execution_count": 7,
     "metadata": {},
     "output_type": "execute_result"
    }
   ],
   "source": [
    "model.predict([100,0.6])"
   ]
  },
  {
   "cell_type": "markdown",
   "metadata": {},
   "source": [
    "Spark ML\n",
    "-------\n",
    "\n",
    "Read training and test data. In this case test data is labeled as well (we will generate our label based on the `arrdelay` field) "
   ]
  },
  {
   "cell_type": "code",
   "execution_count": 8,
   "metadata": {
    "collapsed": false
   },
   "outputs": [
    {
     "name": "stdout",
     "output_type": "stream",
     "text": [
      "root\n",
      " |-- year: integer (nullable = true)\n",
      " |-- month: integer (nullable = true)\n",
      " |-- dayofmonth: integer (nullable = true)\n",
      " |-- dayofweek: integer (nullable = true)\n",
      " |-- deptime: integer (nullable = true)\n",
      " |-- crsdeptime: integer (nullable = true)\n",
      " |-- arrtime: integer (nullable = true)\n",
      " |-- crsarrtime: integer (nullable = true)\n",
      " |-- actualelapsetime: integer (nullable = true)\n",
      " |-- crselapsetime: integer (nullable = true)\n",
      " |-- airtime: integer (nullable = true)\n",
      " |-- arrdelay: integer (nullable = true)\n",
      " |-- depdelay: integer (nullable = true)\n",
      " |-- distance: integer (nullable = true)\n",
      " |-- taxiin: integer (nullable = true)\n",
      " |-- taxiout: integer (nullable = true)\n",
      " |-- cancelled: integer (nullable = true)\n",
      " |-- diverted: integer (nullable = true)\n",
      " |-- carrierdelay: integer (nullable = true)\n",
      " |-- weatherdelay: integer (nullable = true)\n",
      " |-- nasdelay: integer (nullable = true)\n",
      " |-- securitydelay: integer (nullable = true)\n",
      " |-- lateaircraftdelay: integer (nullable = true)\n",
      "\n"
     ]
    }
   ],
   "source": [
    "training = sqlContext.read.parquet(\"data/training.parquet\")\n",
    "test = sqlContext.read.parquet(\"data/test.parquet\")\n",
    "\n",
    "test.printSchema()"
   ]
  },
  {
   "cell_type": "code",
   "execution_count": 9,
   "metadata": {
    "collapsed": false
   },
   "outputs": [
    {
     "data": {
      "text/plain": [
       "Row(year=2006, month=2, dayofmonth=21, dayofweek=2, deptime=902, crsdeptime=905, arrtime=1027, crsarrtime=1030, actualelapsetime=205, crselapsetime=205, airtime=190, arrdelay=-3, depdelay=-3, distance=1162, taxiin=7, taxiout=8, cancelled=0, diverted=0, carrierdelay=0, weatherdelay=0, nasdelay=0, securitydelay=0, lateaircraftdelay=0)"
      ]
     },
     "execution_count": 9,
     "metadata": {},
     "output_type": "execute_result"
    }
   ],
   "source": [
    "test.first()"
   ]
  },
  {
   "cell_type": "code",
   "execution_count": 10,
   "metadata": {
    "collapsed": false
   },
   "outputs": [
    {
     "data": {
      "text/plain": [
       "DataFrame[year: int, month: int, dayofmonth: int, dayofweek: int, deptime: int, crsdeptime: int, arrtime: int, crsarrtime: int, actualelapsetime: int, crselapsetime: int, airtime: int, arrdelay: int, depdelay: int, distance: int, taxiin: int, taxiout: int, cancelled: int, diverted: int, carrierdelay: int, weatherdelay: int, nasdelay: int, securitydelay: int, lateaircraftdelay: int]"
      ]
     },
     "execution_count": 10,
     "metadata": {},
     "output_type": "execute_result"
    }
   ],
   "source": [
    "training.persist(StorageLevel.MEMORY_ONLY)\n",
    "test.persist(StorageLevel.MEMORY_ONLY)"
   ]
  },
  {
   "cell_type": "markdown",
   "metadata": {},
   "source": [
    "Generate label column for the training data"
   ]
  },
  {
   "cell_type": "code",
   "execution_count": 11,
   "metadata": {
    "collapsed": false
   },
   "outputs": [],
   "source": [
    "from pyspark.sql.types import DoubleType\n",
    "from pyspark.sql.functions import udf\n",
    "\n",
    "is_late = udf(lambda delay: 1.0 if delay > 0 else 0.0, DoubleType())\n",
    "training = training.withColumn(\"is_late\",is_late(training.arrdelay))\n"
   ]
  },
  {
   "cell_type": "markdown",
   "metadata": {},
   "source": [
    "Create and fit Spark ML model"
   ]
  },
  {
   "cell_type": "code",
   "execution_count": 12,
   "metadata": {
    "collapsed": false
   },
   "outputs": [],
   "source": [
    "from pyspark.ml.classification import LogisticRegression\n",
    "from pyspark.ml.feature import VectorAssembler\n",
    "from pyspark.ml import Pipeline\n",
    "\n",
    "# Create feature vectors. Ignore arr_delay and it's derivate, is_late\n",
    "feature_assembler = VectorAssembler(\n",
    "    inputCols=[x for x in training.columns if x not in [\"is_late\",\"arrdelay\"]],\n",
    "    outputCol=\"features\")\n",
    "\n",
    "reg = LogisticRegression().setParams(\n",
    "    maxIter = 100,\n",
    "    labelCol=\"is_late\",\n",
    "    predictionCol=\"prediction\")\n",
    "\n",
    "model = Pipeline(stages=[feature_assembler, reg]).fit(training)\n"
   ]
  },
  {
   "cell_type": "markdown",
   "metadata": {},
   "source": [
    "Predict whether the aircraft will be late"
   ]
  },
  {
   "cell_type": "code",
   "execution_count": 13,
   "metadata": {
    "collapsed": false
   },
   "outputs": [],
   "source": [
    "predicted = model.transform(test)"
   ]
  },
  {
   "cell_type": "markdown",
   "metadata": {},
   "source": [
    "Check model performance"
   ]
  },
  {
   "cell_type": "code",
   "execution_count": 14,
   "metadata": {
    "collapsed": false
   },
   "outputs": [
    {
     "name": "stdout",
     "output_type": "stream",
     "text": [
      "+------------------+----+----+\n",
      "|is_late_prediction| 1.0| 0.0|\n",
      "+------------------+----+----+\n",
      "|               1.0|1448|1110|\n",
      "|               0.0|  62|2805|\n",
      "+------------------+----+----+\n",
      "\n"
     ]
    }
   ],
   "source": [
    "predicted = predicted.withColumn(\"is_late\",is_late(predicted.arrdelay))\n",
    "predicted.crosstab(\"is_late\",\"prediction\").show()"
   ]
  },
  {
   "cell_type": "code",
   "execution_count": null,
   "metadata": {
    "collapsed": true
   },
   "outputs": [],
   "source": []
  }
 ],
 "metadata": {
  "kernelspec": {
   "display_name": "Python 2",
   "language": "python",
   "name": "python2"
  },
  "language_info": {
   "codemirror_mode": {
    "name": "ipython",
    "version": 2
   },
   "file_extension": ".py",
   "mimetype": "text/x-python",
   "name": "python",
   "nbconvert_exporter": "python",
   "pygments_lexer": "ipython2",
   "version": "2.7.10"
  }
 },
 "nbformat": 4,
 "nbformat_minor": 0
}
